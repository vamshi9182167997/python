{
  "nbformat": 4,
  "nbformat_minor": 0,
  "metadata": {
    "colab": {
      "provenance": [],
      "authorship_tag": "ABX9TyOj5S+B4efLnfXf9WWydpKT",
      "include_colab_link": true
    },
    "kernelspec": {
      "name": "python3",
      "display_name": "Python 3"
    },
    "language_info": {
      "name": "python"
    }
  },
  "cells": [
    {
      "cell_type": "markdown",
      "metadata": {
        "id": "view-in-github",
        "colab_type": "text"
      },
      "source": [
        "<a href=\"https://colab.research.google.com/github/vamshi9182167997/python/blob/main/Untitled0.ipynb\" target=\"_parent\"><img src=\"https://colab.research.google.com/assets/colab-badge.svg\" alt=\"Open In Colab\"/></a>"
      ]
    },
    {
      "cell_type": "code",
      "execution_count": null,
      "metadata": {
        "colab": {
          "base_uri": "https://localhost:8080/"
        },
        "id": "ltzRyP2H_-kH",
        "outputId": "52a400cf-86bf-43c3-80a3-61edb18b283d"
      },
      "outputs": [
        {
          "output_type": "stream",
          "name": "stdout",
          "text": [
            " enter any number 20\n",
            " enter any number 15\n",
            " enter any math symbol-\n",
            "subtrsctio of two numbers  5\n"
          ]
        }
      ],
      "source": [
        "while True:\n",
        "  x=int(input(\" enter any number \"))\n",
        "  y=int(input(\" enter any number \"))\n",
        "  c=input(\" enter any math symbol\")\n",
        "  if c==\"+\":\n",
        "    print(x+y)\n",
        "  elif c==\"-\":\n",
        "    print(\"subtrsctio of two numbers \",x-y)\n",
        "  elif c==\"*\":\n",
        "    print(x*y)\n",
        "  elif c==\"%\":\n",
        "    print(x%y)\n",
        "  elif c==\"/\":\n",
        "    print(x/y)\n",
        "\n",
        "\n",
        "\n",
        "\n",
        "\n",
        "\n",
        "\n",
        "\n",
        "\n",
        "\n",
        "\n",
        "\n"
      ]
    }
  ]
}